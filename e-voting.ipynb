{
 "cells": [
  {
   "cell_type": "markdown",
   "metadata": {},
   "source": [
    "# SISTEMA DE IDENTIFICACION"
   ]
  },
  {
   "cell_type": "code",
   "execution_count": 142,
   "metadata": {},
   "outputs": [],
   "source": [
    "import random\n",
    "import Crypto\n",
    "import binascii\n",
    "import hashlib\n",
    "from Crypto.PublicKey import RSA\n",
    "from Crypto.Cipher import PKCS1_OAEP\n",
    "from Crypto.Signature import PKCS1_v1_5\n",
    "from Crypto.Hash import SHA256\n",
    "from cryptography.fernet import Fernet\n",
    "import os\n",
    "import datetime\n",
    "\n",
    "class Usuario:\n",
    "    \n",
    "    def __init__(self, id, voto):\n",
    "        self.__id = id\n",
    "        self.__voto = voto\n",
    "        \n",
    "    def getId(self):\n",
    "        return self.__id\n",
    "    def setId(self, id):\n",
    "        self.__id = id\n",
    "    def isVoto(self):\n",
    "        return self.__voto\n",
    "    def setVoto(self, voto):\n",
    "        self.__voto = voto\n",
    "\n",
    "class DNI:\n",
    "    \n",
    "    def __init__(self, valor, disponible):\n",
    "        self.__valor = valor\n",
    "        self.__disponible = disponible\n",
    "        \n",
    "    def getValor(self):\n",
    "        return self.__valor\n",
    "    def setValor(self, valor):\n",
    "        self.__valor = valor\n",
    "    def isDisponible(self):\n",
    "        return self.__disponible\n",
    "    def setDisponible(self, disponible):\n",
    "        self.__disponible = disponible\n",
    "    def __str__(self):\n",
    "        return self.__valor\n",
    "\n",
    "class Candidato:\n",
    "    \n",
    "    def __init__(self, nombre, numeroVotos, partido, indice):\n",
    "        self.__nombre = nombre\n",
    "        self.__numeroVotos = numeroVotos\n",
    "        self.__partido = partido\n",
    "        self.__indice = indice\n",
    "    \n",
    "    def getNombre(self):\n",
    "        return self.__nombre\n",
    "    def setNombre(self, nombre):\n",
    "        self.__nombre = nombre\n",
    "    def getNumeroVotos(self):\n",
    "        return self.__numeroVotos\n",
    "    def setNumeroVotos(self, numeroVotos):\n",
    "        self.__numeroVotos = numeroVotos\n",
    "    def getPartido(self):\n",
    "        return self.__partido\n",
    "    def setPartido(self, partido):\n",
    "        self.__partido = partido\n",
    "    def getIndice(self):\n",
    "        return self.__indice\n",
    "    def setIndice(self, indice):\n",
    "        self.__indice = indice\n",
    "    def __str__(self):\n",
    "        return self.__nombre+\" \"+self.__partido\n",
    "\n",
    "class Registraduria:\n",
    "    def __init__(self):\n",
    "        \n",
    "        # USUARIOS REGISTRADOS -------------------------------------------------\n",
    "        \n",
    "        usu1 = Usuario(\"1234086575\", False)\n",
    "        usu2 = Usuario(\"1143975309\", False)\n",
    "        usu3 = Usuario(\"1013679139\", False)\n",
    "        usu4 = Usuario(\"1152455884\", False)\n",
    "        usu5 = Usuario(\"1020832539\", False)\n",
    "        usu6 = Usuario(\"1020828212\", False)\n",
    "        usu7 = Usuario(\"1234089174\", False)\n",
    "        usu8 = Usuario(\"1037663762\", False)\n",
    "        usu9 = Usuario(\"1140890190\", False)\n",
    "        usu10 = Usuario(\"1000415031\", False)\n",
    "        usu11 = Usuario(\"1140863385\", False)\n",
    "        usu12 = Usuario(\"1136887785\", False)\n",
    "        usu13 = Usuario(\"1144095730\", False)\n",
    "        usu14 = Usuario(\"1020810599\", False)\n",
    "        usu15 = Usuario(\"1144046894\", False)\n",
    "        usuarios=[]\n",
    "        usuarios.append(usu1)\n",
    "        usuarios.append(usu2)\n",
    "        usuarios.append(usu3)\n",
    "        usuarios.append(usu4)\n",
    "        usuarios.append(usu5)\n",
    "        usuarios.append(usu6)\n",
    "        usuarios.append(usu7)\n",
    "        usuarios.append(usu8)\n",
    "        usuarios.append(usu9)\n",
    "        usuarios.append(usu10)\n",
    "        usuarios.append(usu11)\n",
    "        usuarios.append(usu12)\n",
    "        usuarios.append(usu13)\n",
    "        usuarios.append(usu14)\n",
    "        usuarios.append(usu15)\n",
    "        self.__usuarios = usuarios\n",
    "        \n",
    "        c1 = Candidato(\"Francisco Vega\", 0, \"EDI-20192\",1)\n",
    "        c2 = Candidato(\"Estiven Landazuri\", 0, \"EDI-20192\",2)\n",
    "        c3 = Candidato(\"Andres Alvarez\", 0, \"EDI-20192\",3)\n",
    "        c4 = Candidato(\"Evelyn Zuluaga\", 0, \"EDI-20192\",4)\n",
    "        c5 = Candidato(\"Hugo Santiago\", 0, \"EDI-20192\",5)\n",
    "        c6 = Candidato(\"Christian Florez\", 0, \"EDI-20192\",6)\n",
    "        c7 = Candidato(\"Daniel Marquez\", 0, \"EDI-20192\",7)\n",
    "        c8 = Candidato(\"Kevin Gonzalez\", 0, \"EDI-20192\",8)\n",
    "        c9 = Candidato(\"Mariana Padilla\", 0, \"EDI-20192\",9)\n",
    "        c10 = Candidato(\"Duvan Antivar\", 0, \"EDI-20192\",10)\n",
    "        c11 = Candidato(\"Cristian Gutierrez\", 0, \"EDI-20192\",11)\n",
    "        c12 = Candidato(\"Valentina Gil\", 0, \"EDI-20192\",12)\n",
    "        c13 = Candidato(\"Camilo Charria\", 0, \"EDI-20192\",13)\n",
    "        c14 = Candidato(\"Veronica Calle\", 0, \"EDI-20192\",14)\n",
    "        c15 = Candidato(\"James Montealegre\", 0, \"EDI-20192\",15)\n",
    "        candidatos = []\n",
    "        candidatos.append(c1)\n",
    "        candidatos.append(c2)\n",
    "        candidatos.append(c3)\n",
    "        candidatos.append(c4)\n",
    "        candidatos.append(c5)\n",
    "        candidatos.append(c6)\n",
    "        candidatos.append(c7)\n",
    "        candidatos.append(c8)\n",
    "        candidatos.append(c9)\n",
    "        candidatos.append(c10)\n",
    "        candidatos.append(c11)\n",
    "        candidatos.append(c12)\n",
    "        candidatos.append(c13)\n",
    "        candidatos.append(c14)\n",
    "        candidatos.append(c15)\n",
    "        self.__candidatos = candidatos\n",
    "        \n",
    "        #-----------------------------------------------------------------------\n",
    "\n",
    "    def getUsuarios(self):\n",
    "        return self.__usuarios\n",
    "    def getCandidatos(self):\n",
    "        return self.__candidatos\n",
    "    \n",
    "# --------------------------- FUNCIONES ----------------------------------------\n",
    "\n",
    "registraduria = Registraduria()\n",
    "\n",
    "# VALIDACION DE IDENTIDAD ------------------------------------------------------\n",
    "\n",
    "def esCiudadano(id):\n",
    "    idRegistraduria = 0\n",
    "    encontro = False\n",
    "    usuarios = registraduria.getUsuarios()\n",
    "    for i in usuarios:\n",
    "        usuario = i\n",
    "        idRegistraduria = usuario.getId()\n",
    "        if(idRegistraduria == id):\n",
    "            usuario.setVoto(True)\n",
    "            encontro = True\n",
    "    return encontro\n",
    "\n",
    "# GENERACION DE QR -------------------------------------------------------------\n",
    "\n",
    "def generar_sha256(mensaje):\n",
    "    sha_signature = \\\n",
    "        hashlib.sha256(mensaje.encode()).hexdigest()\n",
    "    return sha_signature\n",
    "\n",
    "\n",
    "def generar_hora():\n",
    "    x = datetime.datetime.now()\n",
    "    dia = x.day\n",
    "    mes = x.month\n",
    "    anio = x.year\n",
    "    hora = x.hour\n",
    "    minutos = x.minute\n",
    "    seg = x.second\n",
    "    if minutos >= 59:\n",
    "        minutos = 0\n",
    "        min = minutos + 3\n",
    "    else: \n",
    "        min = minutos + 3\n",
    "    hora_generada = mes,dia,anio,hora,min,seg\n",
    "    return hora_generada\n",
    "\n",
    "def generar_QR():\n",
    "    return generar_hora()\n",
    "    \n",
    "random_generator = Crypto.Random.new().read\n",
    "clave_privada_registro = RSA.generate(2048, random_generator)"
   ]
  },
  {
   "cell_type": "code",
   "execution_count": 143,
   "metadata": {},
   "outputs": [],
   "source": [
    "if esCiudadano(\"1144046894\"):\n",
    "    QR = generar_QR()\n",
    "else: \n",
    "    print(\"Usuario no encontrado\")"
   ]
  },
  {
   "cell_type": "code",
   "execution_count": 144,
   "metadata": {},
   "outputs": [
    {
     "name": "stdout",
     "output_type": "stream",
     "text": [
      "Hora máxima para acceder al sistema:  (9, 4, 2019, 10, 34, 18)\n",
      "---------------------------------------------------------------------------\n",
      "sha: 2f4f752cd4ce9b4dc22a8754572adba4507d06028140f4417411ed7341c266f8\n",
      "------------------------------------------------------------------------------------------------------------------------------------------------------\n",
      "mensaje encriptado:  b'\\x9d\\x83\\xd5\\x0e\\xb8\\x145\\xeb\\xb3\\xdf.A@\\xd7%\\xb1]\\xef\\xaa\\xde=\\x80\\x1c\\x12xNhT\\xadM\\x11\\x1cw\\x93v\\xe1u~\\x06l\\x03\\xe9\\x802)\\xebou\\xbc)\\x03v%\\xf9D\\x8a\\xff\\xbb\\xa3Z\\xc6o`e\\x94\\xf5\\x06\\xf7\\x91:\\xb4f=\\x06\\xb5\\x9c1\\xc2\\xe2s6\\xdd\\xc5\\xc0\\xec+\\xa1\\xdb\\xd1d\\xa0s\\x0f\\x84\\x8c\\x86\\xbbB\\xe0\\xfa%j\\xda\\x9fQ\\x8f\\xd4TA\\xbf\\x03\\xe2_\\xddt\\xda6\\xae\\xd6,\\xac/\\xd8\\xba\\xee\\xcf\\xbf\\tGJ\\xf1a}\\xdfEd\\xd3_\\xf7o#\\xc1-\\xd3dd\\xef5\\xb81\\x0eO\\xc8\\x07#[1\\xfc6\\xc3\\xbc\\x96\\x16\\x82\\xd8L\\xfcS+k\\xe8\\n\\xec\\x05\\x96&b\\xd1\\xc3\\xab\\x00\\xc8.\\x91\\xc9\\xdc r\\xf5Lb\\x95\\xbf@\\x8d\\xe4\\xcf\\xb1\\xbc\\x81P\\xebKJ\\xaa9\\xb1C\\x90\\xe6Fm\\xb2]\\x9c%wG\\n\\xf7\\x9b\\xfd\\x1e\\x83\"\\xd3\\xb4L\\x86E\\x8d\\xee\\xc0\\x89l\\x13\\xbe\\x18F\\xef(E\\x9eIQ\\x07~O\\x8e7s.<\\xaf\\x12\\xcf'\n",
      "------------------------------------------------------------------------------------------------------------------------------------------------------\n",
      "mensaje firmado:  ('(9, 4, 2019, 10, 34, 18)', b'\\x9d\\x83\\xd5\\x0e\\xb8\\x145\\xeb\\xb3\\xdf.A@\\xd7%\\xb1]\\xef\\xaa\\xde=\\x80\\x1c\\x12xNhT\\xadM\\x11\\x1cw\\x93v\\xe1u~\\x06l\\x03\\xe9\\x802)\\xebou\\xbc)\\x03v%\\xf9D\\x8a\\xff\\xbb\\xa3Z\\xc6o`e\\x94\\xf5\\x06\\xf7\\x91:\\xb4f=\\x06\\xb5\\x9c1\\xc2\\xe2s6\\xdd\\xc5\\xc0\\xec+\\xa1\\xdb\\xd1d\\xa0s\\x0f\\x84\\x8c\\x86\\xbbB\\xe0\\xfa%j\\xda\\x9fQ\\x8f\\xd4TA\\xbf\\x03\\xe2_\\xddt\\xda6\\xae\\xd6,\\xac/\\xd8\\xba\\xee\\xcf\\xbf\\tGJ\\xf1a}\\xdfEd\\xd3_\\xf7o#\\xc1-\\xd3dd\\xef5\\xb81\\x0eO\\xc8\\x07#[1\\xfc6\\xc3\\xbc\\x96\\x16\\x82\\xd8L\\xfcS+k\\xe8\\n\\xec\\x05\\x96&b\\xd1\\xc3\\xab\\x00\\xc8.\\x91\\xc9\\xdc r\\xf5Lb\\x95\\xbf@\\x8d\\xe4\\xcf\\xb1\\xbc\\x81P\\xebKJ\\xaa9\\xb1C\\x90\\xe6Fm\\xb2]\\x9c%wG\\n\\xf7\\x9b\\xfd\\x1e\\x83\"\\xd3\\xb4L\\x86E\\x8d\\xee\\xc0\\x89l\\x13\\xbe\\x18F\\xef(E\\x9eIQ\\x07~O\\x8e7s.<\\xaf\\x12\\xcf')\n"
     ]
    }
   ],
   "source": [
    "print(\"Hora máxima para acceder al sistema: \",QR)\n",
    "mensaje = str(QR)\n",
    "print(\"---------------------------------------------------------------------------\")\n",
    "print(\"sha:\", generar_sha256(mensaje))\n",
    "msg = bytes(mensaje, 'utf-8')\n",
    "cipher = PKCS1_OAEP.new(clave_privada_registro)\n",
    "encrypted_message = cipher.encrypt(msg)\n",
    "print(\"------------------------------------------------------------------------------------------------------------------------------------------------------\")\n",
    "print(\"mensaje encriptado: \", encrypted_message)\n",
    "mensaje_firmado = mensaje, encrypted_message\n",
    "print(\"------------------------------------------------------------------------------------------------------------------------------------------------------\")\n",
    "print(\"mensaje firmado: \", mensaje_firmado)"
   ]
  },
  {
   "cell_type": "code",
   "execution_count": 145,
   "metadata": {},
   "outputs": [
    {
     "name": "stdout",
     "output_type": "stream",
     "text": [
      "Hora máxima para acceder al sistema:  (9, 4, 2019, 10, 34, 18)\n",
      "------------------------------------------------------------------------------------------------------------------------------------------------------\n",
      "<Crypto.Hash.SHA256.SHA256Hash object at 0x104efecc0>\n",
      "------------------------------------------------------------------------------------------------------------------------------------------------------\n",
      "b\"\\x96\\xc1\\xa4\\x90\\x19\\xc9\\xe2\\x84\\xc5\\x1f\\xf3\\xdf\\xaaL\\x10Y\\xfb\\x93\\xe3]\\xe9fak\\xa9\\x98\\xb6>\\xb4\\xc8\\x9bc\\x7f\\xfa\\xa0A\\xe0\\xa7\\x8f\\xeacq\\xdb\\x14^@\\xb2!b$F\\xdc{\\xe3\\xe8.5\\xca\\xa5\\xfd\\x0b\\x062D\\x80s\\x90\\xed)\\x06\\xcep\\xa7$(\\xa7N\\x0c!:2\\x0c'\\xd57'\\x8e\\xed\\x82\\\\Z;X\\xe8\\x86\\xf7\\x0b\\xb4GL\\xd2\\xc7<?,\\xcb\\x8e\\xe7\\xffb\\x8f\\xd3@\\xff\\xed\\x81\\xd5\\x93\\xd42\\xd9\\xcb]r\\xb0\\xf6\\xc3a\\x13 x\\tz;\\xe9c\\x9a\\xa8\\x84[8G\\xa6\\x07\\\\\\x0c5\\x7f\\xbd#O{\\xec~\\x1fk\\xd6\\xfe}7\\x95\\xaae\\xa0:C\\x9f\\xbcmW\\xc1\\x95\\xd2\\xd6\\xf7\\x02\\x18\\x90(\\x1c\\xdc\\xb9\\x07\\xb7m\\xf7!Q\\x04\\xe5\\x13\\xc0a\\xb3|:\\xccfX\\x86$c',3\\xb3.a#?oK\\xdbD\\x90\\xa5?\\xbbD\\xcfbP\\xc6H\\x89\\xe6S\\xa8 \\xd3\\x82,\\x17\\x1ea]9\\xe7\\xcf\\x9b\\xff[\\xce\\xb9A\\x8eoU\\x18\\x1b&\\x1f'O\\x86\\\\\"\n"
     ]
    }
   ],
   "source": [
    "# DEFINICIÓN FIRMA ---------------------------------------\n",
    "firma = PKCS1_v1_5.new(clave_privada_registro)\n",
    "print(\"Hora máxima para acceder al sistema: \",QR)\n",
    "print(\"------------------------------------------------------------------------------------------------------------------------------------------------------\")\n",
    "mensaje = str(QR)\n",
    "mensaje = mensaje.encode()\n",
    "sha = SHA256.new()\n",
    "sha.update(mensaje)\n",
    "print(sha)\n",
    "print(\"------------------------------------------------------------------------------------------------------------------------------------------------------\")\n",
    "firma_registro = firma.sign(sha)\n",
    "print(firma_registro)"
   ]
  },
  {
   "cell_type": "markdown",
   "metadata": {},
   "source": [
    "# SISTEMA DE VOTACIÓN"
   ]
  },
  {
   "cell_type": "code",
   "execution_count": 146,
   "metadata": {},
   "outputs": [],
   "source": [
    "def sufragar(indice):\n",
    "    candidato = registraduria.getCandidatos()[indice]\n",
    "    numVotos = candidato.getNumeroVotos()\n",
    "    numV = numVotos + 1\n",
    "    candidato.setNumeroVotos(numV)\n",
    "    voto = \"Su voto se realizó con exito \", \"votó por: \"+ candidato.getNombre()\n",
    "    return voto\n",
    "        \n",
    "def llave_simetrica():\n",
    "    clave_simetrica = Fernet.generate_key()\n",
    "    token = Fernet(clave_simetrica)\n",
    "    return(token)\n",
    "    "
   ]
  },
  {
   "cell_type": "code",
   "execution_count": 147,
   "metadata": {},
   "outputs": [
    {
     "name": "stdout",
     "output_type": "stream",
     "text": [
      "True\n"
     ]
    }
   ],
   "source": [
    "clave_publica_registro = clave_privada_registro.publickey()\n",
    "verificacion_firma_registro = PKCS1_v1_5.new(clave_publica_registro)\n",
    "sha = SHA256.new()\n",
    "sha.update(mensaje)\n",
    "validación_ciudadano = verificacion_firma_registro.verify(sha, firma_registro)\n",
    "print(validación_ciudadano)"
   ]
  },
  {
   "cell_type": "code",
   "execution_count": 160,
   "metadata": {},
   "outputs": [
    {
     "name": "stdout",
     "output_type": "stream",
     "text": [
      "('Su voto se realizó con exito ', 'votó por: Andres Alvarez')\n",
      "-----------------------------------------------------------------------------------------------------------------------------\n",
      "b'gAAAAABdb9sMapIkgkZzpJEB-X7KaHLxwvwoLavLu1Lk5A1XNG8W7VWK-vvBohe-_obJalMy50XWdahUw38qLygg0Mtk7UUL86nrDblxh36ixLGfqeT9Jj4aYJZluNt5wL81Hmhdwwnuh_tVP689T-8HP8Z6ybcLdQ=='\n"
     ]
    }
   ],
   "source": [
    "indice = 7\n",
    "if validación_ciudadano:\n",
    "    voto = sufragar(2)\n",
    "    voto = str(voto)\n",
    "    vot = bytes(voto, 'utf-8')\n",
    "    key = llave_simetrica()\n",
    "    encriptacion_simetrica = key.encrypt(vot)\n",
    "print(voto) \n",
    "print(\"-----------------------------------------------------------------------------------------------------------------------------\")\n",
    "print(encriptacion_simetrica)\n"
   ]
  },
  {
   "cell_type": "code",
   "execution_count": 162,
   "metadata": {},
   "outputs": [
    {
     "name": "stdout",
     "output_type": "stream",
     "text": [
      "b\"\\xca\\xfcY\\x89;v\\x1cfm\\x86\\x0fK71z\\xa5\\x0f\\xaf\\xb0\\x1de(m\\xe6\\xacZ\\x90l\\xb2\\xcd\\xc8$>\\xb4\\xfa\\x98n\\x04<\\xaah\\x87\\xf9q\\xa591\\x8b`'x9\\x8b\\x94\\xd6J\\x0c\\xc6>\\x1aS\\x06\\x9c&\\xb7\\xa5\\xb3\\x91+@ G\\x8e\\xad\\x1aA;_\\xb0\\x14\\xd6\\xd0\\x88|\\xf8 \\xc3\\x8f\\x95lL/\\xf1\\xce\\xbe\\xf9\\x1f\\xed\\x00)\\x16M{\\xc3~xS\\xec\\xea\\x92p\\xe1\\xde\\xd0\\xc5\\xd4\\x1f\\xa6I\\xb1\\xa6k\\x02+\\xae)\\xf0(\\xd0\\x8c\\xf8~\\xa9\\x9awT\\xa2\\xaa)#\\xae\\x11\\x8d\\x0b\\xaaP;\\xeb\\xbd\\x0cO\\x89\\x87f\\xc9\\xdc\\xaa\\xab\\xd5\\x11\\xc2}\\x8b\\xf0\\xe2\\x1c\\xe2F\\x17\\x98\\xce\\xd8\\xbb}\\xf4\\x97o\\xf4\\t\\xd9u\\x94\\x03\\x88\\x02\\xbf*\\xc27\\xcaN,\\xef\\x0f\\x1bX\\xd2PL\\x16R\\x9apL\\x17\\x13\\xf4*\\x0eO_\\xbdfz$\\xe9q\\xbd\\xfd\\xb8\\xae\\xebkDQ^y+hr\\x13\\x18\\x16\\xf3\\xd7\\x89\\x87\\xa8\\x12\\xa4\\xf0\\x139H\\xf2\\xe9\\x05\\x15\\x98\\x01\\xaeV\\x94\\x98\\xe8\\xf5\"\n"
     ]
    }
   ],
   "source": [
    "random_generator = Crypto.Random.new().read\n",
    "clave_privada_voto = RSA.generate(2048, random_generator)\n",
    "sign = PKCS1_v1_5.new(clave_privada_voto)\n",
    "msg = str(encriptacion_simetrica)\n",
    "msg = msg.encode()\n",
    "sha2 = SHA256.new()\n",
    "sha2.update(msg)\n",
    "firma_autoridad_voto = sign.sign(sha2)\n",
    "print(firma_autoridad_voto)"
   ]
  },
  {
   "cell_type": "markdown",
   "metadata": {},
   "source": [
    "### Siguiente paso: Carga de votos a la Blockchain"
   ]
  },
  {
   "cell_type": "code",
   "execution_count": null,
   "metadata": {},
   "outputs": [],
   "source": []
  }
 ],
 "metadata": {
  "kernelspec": {
   "display_name": "Python 3",
   "language": "python",
   "name": "python3"
  },
  "language_info": {
   "codemirror_mode": {
    "name": "ipython",
    "version": 3
   },
   "file_extension": ".py",
   "mimetype": "text/x-python",
   "name": "python",
   "nbconvert_exporter": "python",
   "pygments_lexer": "ipython3",
   "version": "3.7.3"
  }
 },
 "nbformat": 4,
 "nbformat_minor": 2
}
